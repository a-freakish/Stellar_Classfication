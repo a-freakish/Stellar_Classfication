{
 "cells": [
  {
   "cell_type": "code",
   "execution_count": 1,
   "id": "ea0b6371",
   "metadata": {},
   "outputs": [],
   "source": [
    "import pandas as pd\n",
    "import matplotlib.pyplot as plt\n",
    "data_file = 'star_classification.csv'\n",
    "df = pd.read_csv(data_file)\n",
    "%matplotlib inline"
   ]
  },
  {
   "cell_type": "code",
   "execution_count": 6,
   "id": "c5cf3070",
   "metadata": {},
   "outputs": [
    {
     "name": "stdout",
     "output_type": "stream",
     "text": [
      "<class 'pandas.core.frame.DataFrame'>\n",
      "RangeIndex: 100000 entries, 0 to 99999\n",
      "Data columns (total 18 columns):\n",
      " #   Column       Non-Null Count   Dtype  \n",
      "---  ------       --------------   -----  \n",
      " 0   obj_ID       100000 non-null  float64\n",
      " 1   alpha        100000 non-null  float64\n",
      " 2   delta        100000 non-null  float64\n",
      " 3   u            100000 non-null  float64\n",
      " 4   g            100000 non-null  float64\n",
      " 5   r            100000 non-null  float64\n",
      " 6   i            100000 non-null  float64\n",
      " 7   z            100000 non-null  float64\n",
      " 8   run_ID       100000 non-null  int64  \n",
      " 9   rerun_ID     100000 non-null  int64  \n",
      " 10  cam_col      100000 non-null  int64  \n",
      " 11  field_ID     100000 non-null  int64  \n",
      " 12  spec_obj_ID  100000 non-null  float64\n",
      " 13  class        100000 non-null  object \n",
      " 14  redshift     100000 non-null  float64\n",
      " 15  plate        100000 non-null  int64  \n",
      " 16  MJD          100000 non-null  int64  \n",
      " 17  fiber_ID     100000 non-null  int64  \n",
      "dtypes: float64(10), int64(7), object(1)\n",
      "memory usage: 13.7+ MB\n"
     ]
    }
   ],
   "source": [
    "df.info()"
   ]
  },
  {
   "cell_type": "markdown",
   "id": "f0e0240e",
   "metadata": {},
   "source": [
    "#### Using information gain to select most important features  "
   ]
  },
  {
   "cell_type": "code",
   "execution_count": 8,
   "id": "1dcadc88",
   "metadata": {},
   "outputs": [],
   "source": [
    "X = df.drop(['class','obj_ID'], axis = 1)\n",
    "Y = df['class']\n",
    "from sklearn.model_selection import train_test_split\n",
    "X_train, X_test, y_train, y_test = train_test_split(X, Y, test_size=0.2, random_state=42)"
   ]
  },
  {
   "cell_type": "code",
   "execution_count": 9,
   "id": "e82b3bcc",
   "metadata": {},
   "outputs": [
    {
     "data": {
      "text/plain": [
       "array([0.03966045, 0.04352154, 0.10021772, 0.12172614, 0.0765968 ,\n",
       "       0.11111502, 0.14735166, 0.14313406, 0.01179939, 0.0018791 ,\n",
       "       0.00614583, 0.30172973, 0.80221314, 0.27611228, 0.19396157,\n",
       "       0.04847214])"
      ]
     },
     "execution_count": 9,
     "metadata": {},
     "output_type": "execute_result"
    }
   ],
   "source": [
    "from sklearn.feature_selection import mutual_info_classif\n",
    "mutual_info = mutual_info_classif(X_train, y_train)\n",
    "mutual_info"
   ]
  },
  {
   "cell_type": "code",
   "execution_count": 10,
   "id": "addd9461",
   "metadata": {},
   "outputs": [
    {
     "data": {
      "text/plain": [
       "redshift       0.802213\n",
       "spec_obj_ID    0.301730\n",
       "plate          0.276112\n",
       "MJD            0.193962\n",
       "z              0.147352\n",
       "run_ID         0.143134\n",
       "g              0.121726\n",
       "i              0.111115\n",
       "u              0.100218\n",
       "r              0.076597\n",
       "fiber_ID       0.048472\n",
       "delta          0.043522\n",
       "alpha          0.039660\n",
       "rerun_ID       0.011799\n",
       "field_ID       0.006146\n",
       "cam_col        0.001879\n",
       "dtype: float64"
      ]
     },
     "execution_count": 10,
     "metadata": {},
     "output_type": "execute_result"
    }
   ],
   "source": [
    "mutual_info = pd.Series(mutual_info)\n",
    "mutual_info.index = X_train.columns\n",
    "mutual_info.sort_values(ascending=False)"
   ]
  },
  {
   "cell_type": "markdown",
   "id": "f5827bfb",
   "metadata": {},
   "source": [
    "#### Selecting the 10 most significant featues "
   ]
  },
  {
   "cell_type": "code",
   "execution_count": 24,
   "id": "f24b3c42",
   "metadata": {},
   "outputs": [],
   "source": [
    "from sklearn.feature_selection import SelectKBest\n",
    "\n",
    "sel_five_cols = SelectKBest(mutual_info_classif, k=10)\n",
    "sel_five_cols.fit(X_train, y_train)\n",
    "cols_list = X_train.columns[sel_five_cols.get_support()]"
   ]
  },
  {
   "cell_type": "code",
   "execution_count": 26,
   "id": "1028bb70",
   "metadata": {},
   "outputs": [],
   "source": [
    "X_train = X_train[cols_list]\n",
    "X_test = X_test[cols_list] "
   ]
  },
  {
   "cell_type": "code",
   "execution_count": 29,
   "id": "89c5faa0",
   "metadata": {},
   "outputs": [
    {
     "name": "stdout",
     "output_type": "stream",
     "text": [
      "(80000, 10) (20000, 10)\n"
     ]
    }
   ],
   "source": [
    "print(X_train.shape, X_test.shape)"
   ]
  },
  {
   "cell_type": "markdown",
   "id": "b583fcf6",
   "metadata": {},
   "source": [
    "#### Now training the random forest classifier to see its performance"
   ]
  },
  {
   "cell_type": "code",
   "execution_count": 30,
   "id": "0428c3e3",
   "metadata": {},
   "outputs": [],
   "source": [
    "from sklearn.preprocessing import MinMaxScaler\n",
    "scaling = MinMaxScaler(feature_range=(-1,1)).fit(X_train)\n",
    "X_train = scaling.transform(X_train)\n",
    "X_test = scaling.transform(X_test)"
   ]
  },
  {
   "cell_type": "code",
   "execution_count": 34,
   "id": "948ed3bf",
   "metadata": {},
   "outputs": [
    {
     "data": {
      "text/plain": [
       "0.9777"
      ]
     },
     "execution_count": 34,
     "metadata": {},
     "output_type": "execute_result"
    }
   ],
   "source": [
    "from sklearn.ensemble import RandomForestClassifier\n",
    "\n",
    "model = RandomForestClassifier(n_estimators=40)\n",
    "model.fit(X_train, y_train)\n",
    "model.score(X_test, y_test)"
   ]
  },
  {
   "cell_type": "code",
   "execution_count": 35,
   "id": "0c3b681c",
   "metadata": {},
   "outputs": [
    {
     "name": "stdout",
     "output_type": "stream",
     "text": [
      "0.9766\n",
      "0.9771\n",
      "0.9776\n",
      "0.9779\n",
      "0.9779\n",
      "0.9783\n",
      "0.97765\n",
      "0.9779\n",
      "0.97735\n"
     ]
    }
   ],
   "source": [
    "for i in range(10, 100, 10):\n",
    "    clf = RandomForestClassifier(n_estimators=i)\n",
    "    clf.fit(X_train, y_train)\n",
    "    print(clf.score(X_test, y_test))"
   ]
  },
  {
   "cell_type": "markdown",
   "id": "ab1de702",
   "metadata": {},
   "source": [
    "#### Removing outliers "
   ]
  },
  {
   "cell_type": "code",
   "execution_count": null,
   "id": "f1142290",
   "metadata": {},
   "outputs": [],
   "source": []
  }
 ],
 "metadata": {
  "kernelspec": {
   "display_name": "Python 3",
   "language": "python",
   "name": "python3"
  },
  "language_info": {
   "codemirror_mode": {
    "name": "ipython",
    "version": 3
   },
   "file_extension": ".py",
   "mimetype": "text/x-python",
   "name": "python",
   "nbconvert_exporter": "python",
   "pygments_lexer": "ipython3",
   "version": "3.8.8"
  }
 },
 "nbformat": 4,
 "nbformat_minor": 5
}
